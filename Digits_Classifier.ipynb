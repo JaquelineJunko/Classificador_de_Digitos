{
  "nbformat": 4,
  "nbformat_minor": 0,
  "metadata": {
    "colab": {
      "name": "Digits_Classifier.ipynb",
      "provenance": [],
      "collapsed_sections": [
        "G1d4cfZHcedT",
        "Ze5x0zhZITnV"
      ],
      "toc_visible": true,
      "include_colab_link": true
    },
    "kernelspec": {
      "name": "python3",
      "display_name": "Python 3"
    },
    "language_info": {
      "name": "python"
    },
    "accelerator": "GPU"
  },
  "cells": [
    {
      "cell_type": "markdown",
      "metadata": {
        "id": "view-in-github",
        "colab_type": "text"
      },
      "source": [
        "<a href=\"https://colab.research.google.com/github/JaquelineJunko/CyberLabs-Classificador_de_Digitos-/blob/main/Digits_Classifier.ipynb\" target=\"_parent\"><img src=\"https://colab.research.google.com/assets/colab-badge.svg\" alt=\"Open In Colab\"/></a>"
      ]
    },
    {
      "cell_type": "markdown",
      "metadata": {
        "id": "EwKG792sGSSH"
      },
      "source": [
        "## Sobre o problema e o classificador\n",
        "\n",
        "Para a classificação das imagens 0 e 5 do dataset MNIST, inicialmente é proposto uma rede neural Multilayer Perceptron (MLP).\n",
        "\n",
        "O MLP possui uma camada de entrada com 784 (28*28) entradas, uma camada oculta com 56 neurônios e uma camada de saída Softmax de duas classes. \n",
        "\n",
        "Mas o porque do MLP? Redes neurais são algoritmos mais robustos, mais especificamente, redes neurais convolucionais (CNNs) são projetadas para a análise de imagens. A camada de classificação de uma CNN rede é basicamente um MLP. Dessa forma, surgiu a ideia de se utilizar essa arquitetura. No entanto, como o MLP utiliza dados na forma de vetores unidimensionais, as imagens foram redimensionadas para tal forma."
      ]
    },
    {
      "cell_type": "markdown",
      "metadata": {
        "id": "NCDgz5PupOLD"
      },
      "source": [
        "# Importar Bibliotecas"
      ]
    },
    {
      "cell_type": "code",
      "metadata": {
        "id": "myhZpik4pfKK"
      },
      "source": [
        "from torchvision import datasets\n",
        "from torchvision import transforms\n",
        "\n",
        "from torch.utils.data import DataLoader \n",
        "\n",
        "import torch \n",
        "from torch import nn, optim\n",
        "\n",
        "import time\n",
        "\n",
        "import numpy as np\n",
        "import matplotlib.pyplot as plt\n",
        "\n",
        "\n",
        "from sklearn.metrics import accuracy_score, confusion_matrix, plot_confusion_matrix\n",
        "from sklearn.dummy import DummyClassifier\n",
        "from sklearn import svm"
      ],
      "execution_count": 1,
      "outputs": []
    },
    {
      "cell_type": "code",
      "metadata": {
        "colab": {
          "base_uri": "https://localhost:8080/"
        },
        "id": "oOHRM4uMcWPx",
        "outputId": "c5b4dc75-28a7-4544-c60c-d7bbac093ca8"
      },
      "source": [
        "args = {\n",
        "    'batch_size': 100,\n",
        "    'num_workers': 2,\n",
        "    'num_classes': 10,\n",
        "    'lr': 1e-4,\n",
        "    'weight_decay': 5e-4,\n",
        "    'num_epochs': 20\n",
        "}\n",
        "\n",
        "if torch.cuda.is_available():\n",
        "  args['device'] = torch.device('cuda')\n",
        "else:\n",
        "  args['device'] = torch.device('cpu')\n",
        "\n",
        "print(args['device'])\n",
        "\n",
        "# Definir sementes para os resultados serem replicáveis\n",
        "seed = 42\n",
        "torch.manual_seed(seed)\n",
        "np.random.seed(seed)"
      ],
      "execution_count": 2,
      "outputs": [
        {
          "output_type": "stream",
          "name": "stdout",
          "text": [
            "cuda\n"
          ]
        }
      ]
    },
    {
      "cell_type": "markdown",
      "metadata": {
        "id": "CNRpOku_iIRL"
      },
      "source": [
        "# Criando conjunto de treino e teste\n"
      ]
    },
    {
      "cell_type": "markdown",
      "metadata": {
        "id": "QE7_rUxApZ9b"
      },
      "source": [
        "Com o parâmetro train = True, já é possível obter o conjunto de treino, segundo o dataset MNIST. Depois de carregado o dataset completo, realiza-se uma filtragem das amostras que possuem os rótulos 0 ou 5. O mesmo processo é realizado para o conjunto de teste, em que train = False.\n"
      ]
    },
    {
      "cell_type": "code",
      "metadata": {
        "colab": {
          "base_uri": "https://localhost:8080/"
        },
        "id": "AlD7bYuFpaMy",
        "outputId": "03347405-10e7-412a-cced-ca9681454376"
      },
      "source": [
        "# Train\n",
        "train_set = datasets.MNIST('data', \n",
        "                           train=True, \n",
        "                           download=True,\n",
        "                           transform=transforms.ToTensor())\n",
        "# Filtrando imagens dos dígitos 0 e 5\n",
        "idx_train = (train_set.targets==0) | (train_set.targets==5) # idx_train é um tensor de True e False\n",
        "train_set.targets = train_set.targets[idx_train]\n",
        "train_set.data = train_set.data[idx_train]"
      ],
      "execution_count": 3,
      "outputs": [
        {
          "output_type": "stream",
          "name": "stderr",
          "text": [
            "/usr/local/lib/python3.7/dist-packages/torchvision/datasets/mnist.py:498: UserWarning: The given NumPy array is not writeable, and PyTorch does not support non-writeable tensors. This means you can write to the underlying (supposedly non-writeable) NumPy array using the tensor. You may want to copy the array to protect its data or make it writeable before converting it to a tensor. This type of warning will be suppressed for the rest of this program. (Triggered internally at  /pytorch/torch/csrc/utils/tensor_numpy.cpp:180.)\n",
            "  return torch.from_numpy(parsed.astype(m[2], copy=False)).view(*s)\n"
          ]
        }
      ]
    },
    {
      "cell_type": "code",
      "metadata": {
        "id": "ZWH1C6eZgKal"
      },
      "source": [
        "# Test\n",
        "test_set = datasets.MNIST('data', \n",
        "                          train=False, \n",
        "                          download=True,\n",
        "                          transform=transforms.ToTensor())\n",
        "idx_test = (test_set.targets==0) | (test_set.targets==5)\n",
        "test_set.targets = test_set.targets[idx_test]\n",
        "test_set.data = test_set.data[idx_test]"
      ],
      "execution_count": 4,
      "outputs": []
    },
    {
      "cell_type": "markdown",
      "metadata": {
        "id": "kFr6Rrwy5wax"
      },
      "source": [
        "## Mapeando as Classes do Dígito 5\n",
        "\n",
        "Para classificarmos as imagens nas classes 0 ou 5, adotamos que a classe 5 terá como rótulo 1. Assim, o padrão adotado:   \n",
        "> Imagens com digito 0 : **Classe 0**\n",
        "\n",
        "\n",
        "> Imagens com dígito 5:  **Classe 1**\n",
        "\n",
        "Nos seguintes passos, é realizado a troca dos targets 5 para 1, tanto no conjunto de teste, quanto no conjunto de\n",
        "\n",
        "\n",
        "\n"
      ]
    },
    {
      "cell_type": "code",
      "metadata": {
        "colab": {
          "base_uri": "https://localhost:8080/"
        },
        "id": "j2WiwgKquoyO",
        "outputId": "ba13b641-8210-431a-c239-075056f98917"
      },
      "source": [
        "# Troca do target no conjunto de treino\n",
        "print('Classe Antes')\n",
        "print(train_set.targets)\n",
        "for idx in range(len(train_set)):\n",
        "  _ , target = train_set[idx]\n",
        "  if (target == 5):\n",
        "    train_set.targets[idx] = 1\n",
        "\n",
        "print('\\nClasse Depois')\n",
        "print(train_set.targets)"
      ],
      "execution_count": 5,
      "outputs": [
        {
          "output_type": "stream",
          "name": "stdout",
          "text": [
            "Classe Antes\n",
            "tensor([5, 0, 5,  ..., 0, 5, 5])\n",
            "\n",
            "Classe Depois\n",
            "tensor([1, 0, 1,  ..., 0, 1, 1])\n"
          ]
        }
      ]
    },
    {
      "cell_type": "code",
      "metadata": {
        "colab": {
          "base_uri": "https://localhost:8080/"
        },
        "id": "pp75dilDz2AY",
        "outputId": "a3e60c26-7411-4ed2-876a-392e74eb680d"
      },
      "source": [
        "# Troca do target no conjunto de teste\n",
        "print('Classe Antes')\n",
        "print(test_set.targets)\n",
        "for idx in range(len(test_set)):\n",
        "  _ , target = test_set[idx]\n",
        "  if (target == 5):\n",
        "    test_set.targets[idx] = 1\n",
        "\n",
        "print('\\n Classe Depois')\n",
        "print(train_set.targets)"
      ],
      "execution_count": 6,
      "outputs": [
        {
          "output_type": "stream",
          "name": "stdout",
          "text": [
            "Classe Antes\n",
            "tensor([0, 5, 0,  ..., 5, 0, 5])\n",
            "\n",
            " Classe Depois\n",
            "tensor([1, 0, 1,  ..., 0, 1, 1])\n"
          ]
        }
      ]
    },
    {
      "cell_type": "markdown",
      "metadata": {
        "id": "UTFRZnaQmxjX"
      },
      "source": [
        "# Informações do Dataset"
      ]
    },
    {
      "cell_type": "code",
      "metadata": {
        "colab": {
          "base_uri": "https://localhost:8080/"
        },
        "id": "j_dME1coraEJ",
        "outputId": "40cf30b6-b62f-4bfe-9ed3-2301be8d02f1"
      },
      "source": [
        "train_set"
      ],
      "execution_count": 7,
      "outputs": [
        {
          "output_type": "execute_result",
          "data": {
            "text/plain": [
              "Dataset MNIST\n",
              "    Number of datapoints: 11344\n",
              "    Root location: data\n",
              "    Split: Train\n",
              "    StandardTransform\n",
              "Transform: ToTensor()"
            ]
          },
          "metadata": {},
          "execution_count": 7
        }
      ]
    },
    {
      "cell_type": "code",
      "metadata": {
        "colab": {
          "base_uri": "https://localhost:8080/"
        },
        "id": "CiB-XmfPoafg",
        "outputId": "02c82f5f-0d75-4d3c-bde2-2abfe4df1864"
      },
      "source": [
        "test_set"
      ],
      "execution_count": 8,
      "outputs": [
        {
          "output_type": "execute_result",
          "data": {
            "text/plain": [
              "Dataset MNIST\n",
              "    Number of datapoints: 1872\n",
              "    Root location: data\n",
              "    Split: Test\n",
              "    StandardTransform\n",
              "Transform: ToTensor()"
            ]
          },
          "metadata": {},
          "execution_count": 8
        }
      ]
    },
    {
      "cell_type": "code",
      "metadata": {
        "colab": {
          "base_uri": "https://localhost:8080/"
        },
        "id": "7S5wBV6bsAfV",
        "outputId": "7ac1ae4e-a686-4c22-ae92-a01a3a62cfdb"
      },
      "source": [
        "print(type(train_set))\n",
        "print(type(train_set[0]))\n",
        "data, target = train_set[0]\n",
        "print(data.shape) # dimensões(1 canal de cor, 28 pixels por 28 pixels)\n",
        "print(type(target))"
      ],
      "execution_count": 9,
      "outputs": [
        {
          "output_type": "stream",
          "name": "stdout",
          "text": [
            "<class 'torchvision.datasets.mnist.MNIST'>\n",
            "<class 'tuple'>\n",
            "torch.Size([1, 28, 28])\n",
            "<class 'int'>\n"
          ]
        }
      ]
    },
    {
      "cell_type": "code",
      "metadata": {
        "colab": {
          "base_uri": "https://localhost:8080/"
        },
        "id": "eozLNq-7ohLR",
        "outputId": "3e2068d7-d876-4dea-a63d-e2e807ac44b7"
      },
      "source": [
        "type(data), type(target)"
      ],
      "execution_count": 10,
      "outputs": [
        {
          "output_type": "execute_result",
          "data": {
            "text/plain": [
              "(torch.Tensor, int)"
            ]
          },
          "metadata": {},
          "execution_count": 10
        }
      ]
    },
    {
      "cell_type": "markdown",
      "metadata": {
        "id": "8nz8XdUc8s-P"
      },
      "source": [
        "Das informações obtidas:\n",
        "\n",
        "- O conjunto de treino possui **11344** amostras\n",
        "- O conjunto de teste possui **1872** amostras\n",
        "- O conjunto de treino/teste é composto por **tuplas**  <pixels da imagem, rótulo de classe> do tipo <tensor, int>\n",
        "- Cada imagem tem um canal de cor e dimensões 28x28 (torch.Size([1, 28, 28]))"
      ]
    },
    {
      "cell_type": "code",
      "metadata": {
        "colab": {
          "base_uri": "https://localhost:8080/"
        },
        "id": "8DXuMMi4qFu1",
        "outputId": "bdfbbae3-a5b2-4b82-f162-362fe3816037"
      },
      "source": [
        "data[0][1] # imprimir valores do pixels da 2 linha"
      ],
      "execution_count": 11,
      "outputs": [
        {
          "output_type": "execute_result",
          "data": {
            "text/plain": [
              "tensor([0., 0., 0., 0., 0., 0., 0., 0., 0., 0., 0., 0., 0., 0., 0., 0., 0., 0., 0., 0., 0., 0., 0., 0.,\n",
              "        0., 0., 0., 0.])"
            ]
          },
          "metadata": {},
          "execution_count": 11
        }
      ]
    },
    {
      "cell_type": "markdown",
      "metadata": {
        "id": "8QWnq4HMjUeW"
      },
      "source": [
        "## Visualizando algumas imagens do conjunto de treino e teste"
      ]
    },
    {
      "cell_type": "code",
      "metadata": {
        "colab": {
          "base_uri": "https://localhost:8080/",
          "height": 373
        },
        "id": "BtNYjYDehmzb",
        "outputId": "ee7d382e-f836-4973-ec98-04f4295d0718"
      },
      "source": [
        "num_samples = str(len(train_set.data))\n",
        "zero = sum(train_set.targets == 0)\n",
        "cinco = sum(train_set.targets == 1)\n",
        "print('Dados do cojunto de TREINO')\n",
        "print(f'Amostras de treino: {num_samples} | Amostras de Dígito 0: {zero} | Amostras de Dígito 5: {cinco}')\n",
        "\n",
        "plt.figure(figsize=(10, 5))\n",
        "for i in range(18): \n",
        "  data, target = train_set[i]\n",
        "  plt.subplot(3, 6, i+1)\n",
        "  plt.axis('off')\n",
        "  plt.suptitle('Amostras do conjunto de TREINO')\n",
        "  plt.imshow(data[0],cmap='gray')\n",
        "  plt.title('Rótulo: '+ str(target))"
      ],
      "execution_count": 12,
      "outputs": [
        {
          "output_type": "stream",
          "name": "stdout",
          "text": [
            "Dados do cojunto de TREINO\n",
            "Amostras de treino: 11344 | Amostras de Dígito 0: 5923 | Amostras de Dígito 5: 5421\n"
          ]
        },
        {
          "output_type": "display_data",
          "data": {
            "image/png": "[encoded data removed]",
            "text/plain": [
              "<Figure size 720x360 with 18 Axes>"
            ]
          },
          "metadata": {
            "needs_background": "light"
          }
        }
      ]
    },
    {
      "cell_type": "code",
      "metadata": {
        "colab": {
          "base_uri": "https://localhost:8080/",
          "height": 390
        },
        "id": "OfZQ_sXNmWCx",
        "outputId": "bdeed86f-d8e8-48e9-d711-32e2c11a1a4e"
      },
      "source": [
        "num_samples = str(len(test_set.data))\n",
        "zero = sum(test_set.targets == 0)\n",
        "cinco = sum(test_set.targets == 1)\n",
        "print('\\nDados do cojunto de TESTE')\n",
        "print(f'Amostras de teste: {num_samples} | Amostras de Dígito 0: {zero} | Amostras de Dígito 5: {cinco}')\n",
        "\n",
        "plt.figure(figsize=(10, 5))\n",
        "for i in range(18):\n",
        "  data, target = test_set[i]\n",
        "  plt.subplot(3, 6, i+1)\n",
        "  plt.axis('off')\n",
        "  plt.suptitle('Amostras do conjunto de TESTE')\n",
        "  plt.imshow(data[0], cmap='gray')\n",
        "  plt.title('Rótulo: '+ str(target))"
      ],
      "execution_count": 13,
      "outputs": [
        {
          "output_type": "stream",
          "name": "stdout",
          "text": [
            "\n",
            "Dados do cojunto de TESTE\n",
            "Amostras de teste: 1872 | Amostras de Dígito 0: 980 | Amostras de Dígito 5: 892\n"
          ]
        },
        {
          "output_type": "display_data",
          "data": {
            "image/png": "[encoded data removed]",
            "text/plain": [
              "<Figure size 720x360 with 18 Axes>"
            ]
          },
          "metadata": {
            "needs_background": "light"
          }
        }
      ]
    },
    {
      "cell_type": "markdown",
      "metadata": {
        "id": "52LrJfwr3Hdd"
      },
      "source": [
        "# Dataloader de Treino e Teste\n",
        "\n",
        "Como será utilizado um Multilayer Perceptron, o DataLoader consegue gerenciar o treinamento da rede com a separação dos dados em batches, função de shuffle e carregar esses batches em paralelo. Ou seja, para cada época, a rede será treinada com um subconjunto das imagens.\n",
        "\n",
        "---\n",
        "\n",
        "\"While training a model, we typically want to pass samples in \"minibatches”, reshuffle the data at every epoch to reduce model overfitting, and use Python’s multiprocessing to speed up data retrieval. DataLoader is an iterable that abstracts this complexity for us in an easy API. DataLoader wraps an iterable around the Dataset to enable easy access to the samples.\" \n",
        "https://pytorch.org/tutorials/beginner/basics/data_tutorial.html"
      ]
    },
    {
      "cell_type": "code",
      "metadata": {
        "id": "Gipgb2qv3Qqp"
      },
      "source": [
        "train_loader = DataLoader(train_set, \n",
        "                          batch_size=args['batch_size'], \n",
        "                          shuffle=True, \n",
        "                          num_workers=args['num_workers'])\n",
        "\n",
        "test_loader = DataLoader(test_set, \n",
        "                          batch_size=args['batch_size'], \n",
        "                          shuffle=True, \n",
        "                          num_workers=args['num_workers'])"
      ],
      "execution_count": 14,
      "outputs": []
    },
    {
      "cell_type": "markdown",
      "metadata": {
        "id": "5rQImO454IRh"
      },
      "source": [
        "# Multilayer Perceptron\n",
        " "
      ]
    },
    {
      "cell_type": "code",
      "metadata": {
        "id": "UvI0pNNy4PGm"
      },
      "source": [
        "class MLP(nn.Module):\n",
        "  def __init__(self,input_size, hidden_size, out_size):\n",
        "    super(MLP, self).__init__()\n",
        "    \n",
        "    self.features = nn.Sequential(\n",
        "                      nn.Linear(input_size, hidden_size), # Camada de entrada\n",
        "                      nn.ReLU(),\n",
        "                      nn.Linear(hidden_size, hidden_size), # Camada intermediaria \n",
        "                      nn.ReLU()\n",
        "    )\n",
        "      \n",
        "    # self.out =      nn.Sequential(      \n",
        "    #                     nn.Linear(hidden_size, out_size),\n",
        "    #                     nn.Softmax()\n",
        "    # )\n",
        "    self.out     = nn.Linear(hidden_size, out_size)\n",
        "    self.softmax = nn.Softmax()\n",
        "    \n",
        "\n",
        "  def forward(self, input_data):\n",
        "      input_data = input_data.view(input_data.size(0), -1) # Redimensionar os dados na forma de uma vetor linear\n",
        "\n",
        "      # feature = self.features(input_data) # Passando os dados pelas camadas do MLP\n",
        "      # output = self.out(feature)\n",
        "      feature = self.features(input_data)\n",
        "      output  = self.softmax(self.out(feature))\n",
        "      \n",
        "      return output"
      ],
      "execution_count": 15,
      "outputs": []
    },
    {
      "cell_type": "code",
      "metadata": {
        "id": "hDJ--24f6CsV"
      },
      "source": [
        "# Função que retorna a classe original das imagens do conjunto\n",
        "def get_data_target(data_set):\n",
        "  # Saida esperada\n",
        "  data_target = [] \n",
        "  for tup in data_set:\n",
        "    _, target = tup\n",
        "    data_target.append(target)\n",
        "  return data_target"
      ],
      "execution_count": 16,
      "outputs": []
    },
    {
      "cell_type": "code",
      "metadata": {
        "id": "MQg6oAv7311Q"
      },
      "source": [
        "# Função que retorna as predições do MLP\n",
        "def get_prediction_target(data_set):\n",
        "\n",
        "  # Saida prevista\n",
        "  images = torch.stack([tup[0] for tup in data_set]) # pegar imagens do conjunto de teste\n",
        "  images = images.to(args['device'])\n",
        "  prediction = classifier(images) # resultado da classificação da rede\n",
        "\n",
        "  # Transformando a saida da softmax em uma predicao\n",
        "  prediction_target = []\n",
        "  for tup in prediction:\n",
        "    _, idx = torch.max(tup, axis=-1) # posicao do maior valor resultante da previsao softmax\n",
        "    prediction_target.append(torch.IntTensor.item(idx))\n",
        "  return prediction_target"
      ],
      "execution_count": 17,
      "outputs": []
    },
    {
      "cell_type": "markdown",
      "metadata": {
        "id": "G1d4cfZHcedT"
      },
      "source": [
        "## Instanciando o Classificador\n"
      ]
    },
    {
      "cell_type": "code",
      "metadata": {
        "id": "EYRB9u4aCHQD"
      },
      "source": [
        "input_size  = 28 * 28\n",
        "hidden_size = 56\n",
        "out_size    = 2\n",
        "\n",
        "classifier = MLP(input_size, hidden_size, out_size).to(args['device'])"
      ],
      "execution_count": 18,
      "outputs": []
    },
    {
      "cell_type": "code",
      "metadata": {
        "colab": {
          "base_uri": "https://localhost:8080/"
        },
        "id": "hjCIKUNCfj05",
        "outputId": "4ecf1072-904b-4c3f-8685-34b8a9407bc1"
      },
      "source": [
        "# Ver especificações da Rede\n",
        "print(classifier)"
      ],
      "execution_count": 19,
      "outputs": [
        {
          "output_type": "stream",
          "name": "stdout",
          "text": [
            "MLP(\n",
            "  (features): Sequential(\n",
            "    (0): Linear(in_features=784, out_features=56, bias=True)\n",
            "    (1): ReLU()\n",
            "    (2): Linear(in_features=56, out_features=56, bias=True)\n",
            "    (3): ReLU()\n",
            "  )\n",
            "  (out): Linear(in_features=56, out_features=2, bias=True)\n",
            "  (softmax): Softmax(dim=None)\n",
            ")\n"
          ]
        }
      ]
    },
    {
      "cell_type": "markdown",
      "metadata": {
        "id": "JMA5bLlMeFbI"
      },
      "source": [
        "## Função de Perda e Otimizador\n",
        "\n",
        "Função de Perda: mede o quão longe o valor predito está do seu valor verdadeiro. **CrossEntropyLoss**: É útil ao treinar um problema de classificação com C classes. \n",
        "\n",
        "Optimizer: Um otimizador é utilizado para determinar de que maneira os pesos serão atualizados, de forma a reduzir os erros."
      ]
    },
    {
      "cell_type": "code",
      "metadata": {
        "id": "f8VecYRmcjQ7"
      },
      "source": [
        "criterion = nn.CrossEntropyLoss().to(args['device'])\n",
        "optimizer = optim.Adam(classifier.parameters(), lr=args['lr'], weight_decay=args['weight_decay'])"
      ],
      "execution_count": 20,
      "outputs": []
    },
    {
      "cell_type": "markdown",
      "metadata": {
        "id": "xn2Ub3xefvie"
      },
      "source": [
        "# Fluxo de Treinamento da Arquitetura\n",
        "\n",
        "Basicamente o fluxo segue os seguintes passos, no qual as épocas serão iteradas quando chamado o treinamento/teste\n",
        "\n",
        "1.   Iterar nas épocas\n",
        "2.   Iterar nos batches\n",
        "3.   Forward na rede e cálculo da loss\n",
        "4.  Cálculo do gradiente e atualização dos pesos"
      ]
    },
    {
      "cell_type": "code",
      "metadata": {
        "id": "52kPAtgvyZ4O"
      },
      "source": [
        "def train(train_loader, classifier, epoch):\n",
        "\n",
        "  # Training mode\n",
        "  classifier.train()\n",
        "  \n",
        "  start = time.time()\n",
        "  \n",
        "  epoch_loss  = []\n",
        "\n",
        "  for batch in train_loader:\n",
        "    image, target = batch\n",
        "\n",
        "    # Cast do dado na GPU\n",
        "    image = image.to(args['device'])\n",
        "    target = target.to(args['device'])\n",
        "\n",
        "    # Forward \n",
        "    prediction = classifier(image)\n",
        "    loss = criterion(prediction, target)\n",
        "    epoch_loss.append(loss.cpu().data)\n",
        "\n",
        "    # Backward\n",
        "    loss.backward() # mutiple times accumulates the gradient (by addition) for each parameter.\n",
        "    optimizer.step() # performs a parameter update based on the current gradient and the update rule\n",
        "    optimizer.zero_grad()\n",
        "    \n",
        "  epoch_loss = np.asarray(epoch_loss) # armazenar a loss da epoca atual\n",
        "  end = time.time()\n",
        "\n",
        "  print('#################### Train ####################')\n",
        "  print(\"Epoca %d, Loss: %.4f +/- %.4f, Tempo: %.2f\" % (epoch, epoch_loss.mean(), epoch_loss.std(), end-start) )\n",
        "  return epoch_loss.mean()"
      ],
      "execution_count": 21,
      "outputs": []
    },
    {
      "cell_type": "code",
      "metadata": {
        "id": "9TvKowtdyqhU"
      },
      "source": [
        "def validate(test_loader, classifier, epoch):\n",
        "\n",
        "  # Evaluation mode\n",
        "  classifier.eval()\n",
        "  \n",
        "  start = time.time()\n",
        "  \n",
        "  epoch_loss  = []\n",
        "\n",
        "  with torch.no_grad(): \n",
        "    for batch in test_loader:\n",
        "      image, target = batch\n",
        "\n",
        "      # Cast do dado na GPU\n",
        "      image = image.to(args['device'])\n",
        "      target = target.to(args['device'])\n",
        "      \n",
        "      # Forward \n",
        "      prediction = classifier(image)\n",
        "      loss = criterion(prediction, target)\n",
        "      epoch_loss.append(loss.cpu().data)\n",
        "      \n",
        "  epoch_loss = np.asarray(epoch_loss) # armazenar a loss da epoca atual\n",
        "  end = time.time()\n",
        "  print('******************* Validate ******************')\n",
        "  print('Epoch %d, Loss: %.4f +/- %.4f, Time: %.2f\\n' % (epoch, epoch_loss.mean(), epoch_loss.std(), end-start))\n",
        "\n",
        "  return epoch_loss.mean()"
      ],
      "execution_count": 22,
      "outputs": []
    },
    {
      "cell_type": "code",
      "metadata": {
        "colab": {
          "base_uri": "https://localhost:8080/"
        },
        "id": "Syv0l8t4y_Ot",
        "outputId": "192ff95d-b540-4b17-81cc-6a2a7034435e"
      },
      "source": [
        "train_losses, test_losses = [], []\n",
        "train_acc, test_acc = [], []\n",
        "# Obter as classes das imagens nos conjutos de treino e teste\n",
        "train_targets = get_data_target(train_set) \n",
        "test_targets = get_data_target(test_set)\n",
        "\n",
        "for epoch in range(args['num_epochs']):\n",
        "  \n",
        "  # Train\n",
        "  train_losses.append(train(train_loader, classifier, epoch))\n",
        "  ## Calcular a acurácia em cada época\n",
        "  train_predict_target = get_prediction_target(train_set)\n",
        "  train_acc.append(accuracy_score(train_targets, train_predict_target))\n",
        "\n",
        "  # Validate\n",
        "  test_losses.append(validate(test_loader, classifier, epoch))\n",
        "  \n",
        "  ## Calcular a acurácia em cada época\n",
        "  test_predict_target = get_prediction_target(test_set)\n",
        "  test_acc.append(accuracy_score(test_targets, test_predict_target))"
      ],
      "execution_count": 23,
      "outputs": [
        {
          "output_type": "stream",
          "name": "stderr",
          "text": [
            "/usr/local/lib/python3.7/dist-packages/ipykernel_launcher.py:26: UserWarning: Implicit dimension choice for softmax has been deprecated. Change the call to include dim=X as an argument.\n"
          ]
        },
        {
          "output_type": "stream",
          "name": "stdout",
          "text": [
            "#################### Train ####################\n",
            "Epoca 0, Loss: 0.6119 +/- 0.0611, Tempo: 2.23\n",
            "******************* Validate ******************\n",
            "Epoch 0, Loss: 0.4815 +/- 0.0116, Time: 0.40\n",
            "\n",
            "#################### Train ####################\n",
            "Epoca 1, Loss: 0.4104 +/- 0.0368, Tempo: 2.10\n",
            "******************* Validate ******************\n",
            "Epoch 1, Loss: 0.3600 +/- 0.0062, Time: 0.40\n",
            "\n",
            "#################### Train ####################\n",
            "Epoca 2, Loss: 0.3543 +/- 0.0116, Tempo: 2.07\n",
            "******************* Validate ******************\n",
            "Epoch 2, Loss: 0.3388 +/- 0.0076, Time: 0.38\n",
            "\n",
            "#################### Train ####################\n",
            "Epoca 3, Loss: 0.3416 +/- 0.0106, Tempo: 2.07\n",
            "******************* Validate ******************\n",
            "Epoch 3, Loss: 0.3326 +/- 0.0087, Time: 0.38\n",
            "\n",
            "#################### Train ####################\n",
            "Epoca 4, Loss: 0.3361 +/- 0.0105, Tempo: 2.13\n",
            "******************* Validate ******************\n",
            "Epoch 4, Loss: 0.3292 +/- 0.0071, Time: 0.39\n",
            "\n",
            "#################### Train ####################\n",
            "Epoca 5, Loss: 0.3331 +/- 0.0094, Tempo: 2.06\n",
            "******************* Validate ******************\n",
            "Epoch 5, Loss: 0.3274 +/- 0.0063, Time: 0.38\n",
            "\n",
            "#################### Train ####################\n",
            "Epoca 6, Loss: 0.3312 +/- 0.0092, Tempo: 2.08\n",
            "******************* Validate ******************\n",
            "Epoch 6, Loss: 0.3264 +/- 0.0074, Time: 0.38\n",
            "\n",
            "#################### Train ####################\n",
            "Epoca 7, Loss: 0.3297 +/- 0.0091, Tempo: 2.14\n",
            "******************* Validate ******************\n",
            "Epoch 7, Loss: 0.3252 +/- 0.0063, Time: 0.40\n",
            "\n",
            "#################### Train ####################\n",
            "Epoca 8, Loss: 0.3286 +/- 0.0086, Tempo: 2.07\n",
            "******************* Validate ******************\n",
            "Epoch 8, Loss: 0.3246 +/- 0.0073, Time: 0.40\n",
            "\n",
            "#################### Train ####################\n",
            "Epoca 9, Loss: 0.3276 +/- 0.0097, Tempo: 2.09\n",
            "******************* Validate ******************\n",
            "Epoch 9, Loss: 0.3251 +/- 0.0078, Time: 0.40\n",
            "\n",
            "#################### Train ####################\n",
            "Epoca 10, Loss: 0.3269 +/- 0.0096, Tempo: 2.14\n",
            "******************* Validate ******************\n",
            "Epoch 10, Loss: 0.3240 +/- 0.0075, Time: 0.41\n",
            "\n",
            "#################### Train ####################\n",
            "Epoca 11, Loss: 0.3263 +/- 0.0095, Tempo: 2.15\n",
            "******************* Validate ******************\n",
            "Epoch 11, Loss: 0.3242 +/- 0.0094, Time: 0.39\n",
            "\n",
            "#################### Train ####################\n",
            "Epoca 12, Loss: 0.3259 +/- 0.0088, Tempo: 2.09\n",
            "******************* Validate ******************\n",
            "Epoch 12, Loss: 0.3235 +/- 0.0078, Time: 0.39\n",
            "\n",
            "#################### Train ####################\n",
            "Epoca 13, Loss: 0.3252 +/- 0.0080, Tempo: 2.18\n",
            "******************* Validate ******************\n",
            "Epoch 13, Loss: 0.3232 +/- 0.0113, Time: 0.39\n",
            "\n",
            "#################### Train ####################\n",
            "Epoca 14, Loss: 0.3247 +/- 0.0082, Tempo: 2.11\n",
            "******************* Validate ******************\n",
            "Epoch 14, Loss: 0.3229 +/- 0.0066, Time: 0.40\n",
            "\n",
            "#################### Train ####################\n",
            "Epoca 15, Loss: 0.3243 +/- 0.0080, Tempo: 2.12\n",
            "******************* Validate ******************\n",
            "Epoch 15, Loss: 0.3229 +/- 0.0083, Time: 0.39\n",
            "\n",
            "#################### Train ####################\n",
            "Epoca 16, Loss: 0.3239 +/- 0.0082, Tempo: 2.09\n",
            "******************* Validate ******************\n",
            "Epoch 16, Loss: 0.3223 +/- 0.0065, Time: 0.39\n",
            "\n",
            "#################### Train ####################\n",
            "Epoca 17, Loss: 0.3235 +/- 0.0074, Tempo: 2.14\n",
            "******************* Validate ******************\n",
            "Epoch 17, Loss: 0.3234 +/- 0.0079, Time: 0.38\n",
            "\n",
            "#################### Train ####################\n",
            "Epoca 18, Loss: 0.3232 +/- 0.0082, Tempo: 2.18\n",
            "******************* Validate ******************\n",
            "Epoch 18, Loss: 0.3221 +/- 0.0075, Time: 0.43\n",
            "\n",
            "#################### Train ####################\n",
            "Epoca 19, Loss: 0.3229 +/- 0.0077, Tempo: 2.10\n",
            "******************* Validate ******************\n",
            "Epoch 19, Loss: 0.3221 +/- 0.0072, Time: 0.39\n",
            "\n"
          ]
        }
      ]
    },
    {
      "cell_type": "markdown",
      "metadata": {
        "id": "W71hoEah87mr"
      },
      "source": [
        "## Exibição da Perda e Acurácia em cada Época"
      ]
    },
    {
      "cell_type": "code",
      "metadata": {
        "colab": {
          "base_uri": "https://localhost:8080/",
          "height": 697
        },
        "id": "hfhW6eqWIxVu",
        "outputId": "53f4de66-a8ae-4c78-c96b-74df2166b8e0"
      },
      "source": [
        "x_axis = np.arange(0, int(args['num_epochs']), 1);\n",
        "plt.figure(figsize=(10, 5))\n",
        "plt.plot(train_losses, label='Train')\n",
        "plt.plot(test_losses, label='Test', linewidth=3, alpha=0.5)\n",
        "plt.xlabel('Epochs', fontsize=16)\n",
        "plt.ylabel('Loss', fontsize=16)\n",
        "plt.xticks(x_axis)\n",
        "plt.xlim(0,int(args['num_epochs']-1))\n",
        "plt.grid()\n",
        "plt.title('Convergence', fontsize=16)\n",
        "plt.legend()\n",
        "plt.show()\n",
        "\n",
        "x_axis = np.arange(0, int(args['num_epochs']), 1);\n",
        "plt.figure(figsize=(10, 5))\n",
        "plt.plot(train_acc, label='Train')\n",
        "plt.plot(test_acc, label='Test', linewidth=3, alpha=0.5)\n",
        "plt.xlabel('Epochs', fontsize=16)\n",
        "plt.ylabel('Accuracy', fontsize=16)\n",
        "plt.xticks(x_axis)\n",
        "plt.xlim(0,int(args['num_epochs'])-1)\n",
        "plt.grid()\n",
        "plt.title('Test and Train Accuracy', fontsize=16)\n",
        "plt.legend()\n",
        "plt.show()"
      ],
      "execution_count": 24,
      "outputs": [
        {
          "output_type": "display_data",
          "data": {
            "image/png": "[encoded data removed]",
            "text/plain": [
              "<Figure size 720x360 with 1 Axes>"
            ]
          },
          "metadata": {
            "needs_background": "light"
          }
        },
        {
          "output_type": "display_data",
          "data": {
            "image/png": "[encoded data removed]",
            "text/plain": [
              "<Figure size 720x360 with 1 Axes>"
            ]
          },
          "metadata": {
            "needs_background": "light"
          }
        }
      ]
    },
    {
      "cell_type": "code",
      "metadata": {
        "colab": {
          "base_uri": "https://localhost:8080/"
        },
        "id": "iEkDVfKHNE0Y",
        "outputId": "6fb248d2-1efa-4b40-eb79-1f6ad385bf49"
      },
      "source": [
        "# Acurácias obtidas em cada época no TESTE\n",
        "\n",
        "for idx, acc in enumerate(test_acc):\n",
        "  print('Época %i   | Acurácia: %.2f%%' % (idx,acc*100))"
      ],
      "execution_count": 25,
      "outputs": [
        {
          "output_type": "stream",
          "name": "stdout",
          "text": [
            "Época 0   | Acurácia: 96.15%\n",
            "Época 1   | Acurácia: 98.18%\n",
            "Época 2   | Acurácia: 98.56%\n",
            "Época 3   | Acurácia: 98.72%\n",
            "Época 4   | Acurácia: 98.99%\n",
            "Época 5   | Acurácia: 98.99%\n",
            "Época 6   | Acurácia: 98.93%\n",
            "Época 7   | Acurácia: 98.88%\n",
            "Época 8   | Acurácia: 98.93%\n",
            "Época 9   | Acurácia: 98.77%\n",
            "Época 10   | Acurácia: 98.93%\n",
            "Época 11   | Acurácia: 98.93%\n",
            "Época 12   | Acurácia: 98.88%\n",
            "Época 13   | Acurácia: 98.88%\n",
            "Época 14   | Acurácia: 99.20%\n",
            "Época 15   | Acurácia: 99.04%\n",
            "Época 16   | Acurácia: 99.15%\n",
            "Época 17   | Acurácia: 98.82%\n",
            "Época 18   | Acurácia: 99.04%\n",
            "Época 19   | Acurácia: 99.20%\n"
          ]
        }
      ]
    },
    {
      "cell_type": "markdown",
      "metadata": {
        "id": "Ze5x0zhZITnV"
      },
      "source": [
        "### Análise dos Gráficos"
      ]
    },
    {
      "cell_type": "code",
      "metadata": {
        "colab": {
          "base_uri": "https://localhost:8080/"
        },
        "id": "M5a6HXff9Ij8",
        "outputId": "88a3a1d6-93c8-435c-fd3c-d736a4aacaf9"
      },
      "source": [
        "losses = []\n",
        "print('Loss_Treino é MAIOR que Loss_Teste? ')\n",
        "for i in range(len(train_losses)):\n",
        "  if (train_losses[i] > test_losses[i]):\n",
        "    losses.append((i,True))\n",
        "  else:\n",
        "    losses.append((i,False))\n",
        "print(losses)"
      ],
      "execution_count": 26,
      "outputs": [
        {
          "output_type": "stream",
          "name": "stdout",
          "text": [
            "Loss_Treino é MAIOR que Loss_Teste? \n",
            "[(0, True), (1, True), (2, True), (3, True), (4, True), (5, True), (6, True), (7, True), (8, True), (9, True), (10, True), (11, True), (12, True), (13, True), (14, True), (15, True), (16, True), (17, True), (18, True), (19, True)]\n"
          ]
        }
      ]
    },
    {
      "cell_type": "code",
      "metadata": {
        "colab": {
          "base_uri": "https://localhost:8080/"
        },
        "id": "2BE-05TrAafQ",
        "outputId": "fa0fdbe7-c1ef-41ef-b5a3-0bfbe5281b3c"
      },
      "source": [
        "overfit = []\n",
        "print('Acurácia_Treino é MAIOR que Acurácia_Teste? ')\n",
        "for i in range(len(train_acc)):\n",
        "  if (train_acc[i] > test_acc[i]):\n",
        "    overfit.append((i,True))\n",
        "  else:\n",
        "    overfit.append((i,False))\n",
        "print(overfit)"
      ],
      "execution_count": 27,
      "outputs": [
        {
          "output_type": "stream",
          "name": "stdout",
          "text": [
            "Acurácia_Treino é MAIOR que Acurácia_Teste? \n",
            "[(0, False), (1, False), (2, False), (3, False), (4, False), (5, False), (6, False), (7, False), (8, False), (9, True), (10, True), (11, True), (12, True), (13, True), (14, False), (15, True), (16, True), (17, True), (18, True), (19, False)]\n"
          ]
        }
      ]
    },
    {
      "cell_type": "markdown",
      "metadata": {
        "id": "Lg-q9kNgPaDn"
      },
      "source": [
        "Comparando as perdas obtidas dos conjuntos de treino e teste, tem-se que sempre a **perda do conjunto de treino é sempre maior do que a perda do conjunto de teste**, o que é um indício de que a rede não está sofrendo a tendencia de overfitting nos dados de treino.\n",
        "\n",
        "Apesar disso, a acurácia obtida nos modelos de treino tendem a ultrapassar a acurácia do conjunto de treino. Enquanto o desempenho nesses tendem a oscilar, no treino há um aumento cada vez maior da acurácia, indicando que o modelo está se especializando nesse conjunto.\n",
        "\n",
        "Por fim, já na primeira iteração há um valor considerável de acurácia (acima de 96%), chegando a valores maiores que 99%."
      ]
    },
    {
      "cell_type": "markdown",
      "metadata": {
        "id": "UzAwY57n6lLc"
      },
      "source": [
        "### Matriz de Confusão\n",
        "\n",
        "A matriz de confusão mensura a quantidade de amostras que foram corretamente e incorretamente rotuladas.\n",
        "\n",
        "Por definição, cada elemento C(i,j) é igual ao número de observações que se sabe estarem no grupo i e que se prevê que estejam no grupo j.\n",
        "\n",
        "Dessa forma:\n",
        "\n",
        "*   971 imagens de número 0 foram classificadas como 0\n",
        "*   9   imagens de número 0 foram classificadas como 5\n",
        "*   886 imagens de número 5 foram classificadas como 5\n",
        "*   6   imagens de número 5 foram classificadas como 0\n",
        "\n"
      ]
    },
    {
      "cell_type": "code",
      "metadata": {
        "colab": {
          "base_uri": "https://localhost:8080/"
        },
        "id": "DFGi9mDX6Qau",
        "outputId": "faec2b1e-5e03-486e-f54a-112de2c67d37"
      },
      "source": [
        "confusion_matrix(test_targets, test_predict_target)"
      ],
      "execution_count": 28,
      "outputs": [
        {
          "output_type": "execute_result",
          "data": {
            "text/plain": [
              "array([[971,   9],\n",
              "       [  6, 886]])"
            ]
          },
          "metadata": {},
          "execution_count": 28
        }
      ]
    },
    {
      "cell_type": "markdown",
      "metadata": {
        "id": "2YYJYX_OWOTE"
      },
      "source": [
        "# Considerações Parciais\n",
        "\n",
        "Treinando a rede com 20 épocas, é possível notar que a partir da época 8, as acurácias do conjunto de treino tendem a superar as do conjunto de teste. Isso indica que o classificador está se tornando cada vez mais especializado no conjunto de treino, o que não se espera de um classificador. Apesar disso, a tendência dos erros no teste ainda são menores que no treino. No entanto, para não termos uma rede com sobreajuste (overfitting), **treinaremos a rede somente até a época 8. **\n",
        "\n",
        "Outras estratégias também foram utilizadas para evitar o overfitting, como por exemplo a criação do DataLoader, possibilitando o treino da rede por vários batches. Além disso, por não ser um problema de alta complexidade, o número de amostras na base de imagens também contribui para evitar esse problema. \n",
        "\n",
        "Diversas estratégia aind podem ser utilizadas e que não foram exploradas aqui, como por exemplo: analisar o desempenho do modelo variando o tamanho dos batches e as taxas de aprendizado. "
      ]
    },
    {
      "cell_type": "markdown",
      "metadata": {
        "id": "TDjw3nF8vnjs"
      },
      "source": [
        "# Comparação com um classificador de Baseline\n",
        "\n",
        "Para termos de comparação, utilizaremos um predidor de *baseline*. Dessa forma, podemos comparar se o modelo proposto apresenta resultados relevantes, de fato, quando comparamos com um classificador que realiza predições por meio de regras mais simples. O modelo de baseline utilizado é o proposto na biblioteca sklearn.dummy.DummyClassifier\n",
        "\n",
        "https://scikit-learn.org/stable/modules/generated/sklearn.dummy.DummyClassifier.html#sklearn.dummy.DummyClassifier"
      ]
    },
    {
      "cell_type": "code",
      "metadata": {
        "id": "IKd9K0Ti7569"
      },
      "source": [
        "train_images = datasets.MNIST('data', \n",
        "                           train=True, \n",
        "                           download=True,\n",
        "                           transform=transforms.ToTensor()\n",
        "                            )\n",
        "\n",
        "test_images = datasets.MNIST('data', \n",
        "                           train=False, \n",
        "                           download=True,\n",
        "                           transform=transforms.ToTensor()\n",
        "                            )"
      ],
      "execution_count": 29,
      "outputs": []
    },
    {
      "cell_type": "markdown",
      "metadata": {
        "id": "m4_l3qxX_kQU"
      },
      "source": [
        "## Organizando os conjuntos de treino e teste para o baseline"
      ]
    },
    {
      "cell_type": "code",
      "metadata": {
        "id": "n2kIvvJw_dvD"
      },
      "source": [
        "def data_transform(dataset):\n",
        "  \n",
        "  # Filtrando imagens dos dígitos 0 e 5\n",
        "  idx = (dataset.targets==0) | (dataset.targets==5) # idx é um tensor de True e False\n",
        "  dataset.targets = dataset.targets[idx]\n",
        "  dataset.data = dataset.data[idx]\n",
        "\n",
        "  # Rotulando classe 5 para classe 1\n",
        "  for idx in range(len(dataset)):\n",
        "    _ , target = dataset[idx]\n",
        "    if (target == 5):\n",
        "      dataset.targets[idx] = 1\n",
        "\n",
        "  # Labels\n",
        "  target = dataset.targets.numpy()\n",
        "\n",
        "  # Imagens\n",
        "  data = dataset.data.numpy()\n",
        "\n",
        "  # Transformando as imagens em estruturas unidimensionais\n",
        "  data_reshape = []\n",
        "  for image in data:\n",
        "    data_reshape.append(image.reshape(28*28))\n",
        "\n",
        "  return (data_reshape,target)"
      ],
      "execution_count": 30,
      "outputs": []
    },
    {
      "cell_type": "code",
      "metadata": {
        "id": "B0FIjtYN8P9I"
      },
      "source": [
        "train_data, train_target = data_transform(train_images)\n",
        "test_data, test_target = data_transform(test_images)"
      ],
      "execution_count": 31,
      "outputs": []
    },
    {
      "cell_type": "markdown",
      "metadata": {
        "id": "WUn3HhP-Gcag"
      },
      "source": [
        "## Ajuste e Predição do Classificador\n",
        "\n",
        "A estratégia utilizada para o ajuste foi a \"stratified\". Nessa abordagem, as predições são feitas respeitando as distribuições das classes no conjunto de treino"
      ]
    },
    {
      "cell_type": "code",
      "metadata": {
        "colab": {
          "base_uri": "https://localhost:8080/"
        },
        "id": "TPEKaWtc_Sf_",
        "outputId": "642251cc-8b59-476e-89e1-5172cc9a4ebb"
      },
      "source": [
        "# Carregando o Classificador\n",
        "baseline_classifier = DummyClassifier(strategy=\"stratified\") \n",
        "# Ajustar o Classificador\n",
        "baseline_classifier.fit(test_data, test_target)\n",
        "\n",
        "# Predizer o Conjunto de Teste\n",
        "prediction = baseline_classifier.predict(test_data)\n",
        "acc = baseline_classifier.score(test_data, test_target) * 100\n",
        "print('Acurácia Baseline: %.2f%%' % (acc))"
      ],
      "execution_count": 32,
      "outputs": [
        {
          "output_type": "stream",
          "name": "stdout",
          "text": [
            "Acurácia Baseline: 48.77%\n"
          ]
        }
      ]
    },
    {
      "cell_type": "markdown",
      "metadata": {
        "id": "W2ADqgvIHNoy"
      },
      "source": [
        "## Matriz de Confusão"
      ]
    },
    {
      "cell_type": "code",
      "metadata": {
        "colab": {
          "base_uri": "https://localhost:8080/",
          "height": 296
        },
        "id": "vcwyHb54HMmD",
        "outputId": "a7b1a42f-b183-4ae5-dcc7-513c197af150"
      },
      "source": [
        "plot_confusion_matrix(estimator=baseline_classifier, X=test_data, y_true=test_target,normalize='all', cmap='Blues')"
      ],
      "execution_count": 33,
      "outputs": [
        {
          "output_type": "execute_result",
          "data": {
            "text/plain": [
              "<sklearn.metrics._plot.confusion_matrix.ConfusionMatrixDisplay at 0x7f94140b04d0>"
            ]
          },
          "metadata": {},
          "execution_count": 33
        },
        {
          "output_type": "display_data",
          "data": {
            "image/png": "[encoded data removed]",
            "text/plain": [
              "<Figure size 432x288 with 2 Axes>"
            ]
          },
          "metadata": {
            "needs_background": "light"
          }
        }
      ]
    },
    {
      "cell_type": "markdown",
      "metadata": {
        "id": "CyYvK3c-F1bl"
      },
      "source": [
        "# Comparando com um classificador mais robusto que o anterior e já implementado na biblioteca do Sklearn\n",
        "\n",
        "Como o nosso modelo já atinge acurácias consideráveis já nas primeiras épocas, vamos analisar o desempenho de outro modelo muito conhecido: o *Support Vector Machine* com *kernel* RBF, o que nos ajudará a entender se nosso modelo possui resultados competitivos com classificadores menos complexos e que trabalham com diferentes estratégias."
      ]
    },
    {
      "cell_type": "code",
      "metadata": {
        "id": "wdChwsPpK0oL"
      },
      "source": [
        "# Conjunto de teste já pronto: train_data, train_target\n",
        "# Conjunto de teste já pronto: test_data, test_target"
      ],
      "execution_count": 34,
      "outputs": []
    },
    {
      "cell_type": "code",
      "metadata": {
        "id": "Sijf-fEQw9Gc"
      },
      "source": [
        "svm_classifier = svm.SVC(kernel='rbf') \n",
        "svm_classifier.fit(train_data, train_target)\n",
        "y_prediction = svm_classifier.predict(test_data)"
      ],
      "execution_count": 35,
      "outputs": []
    },
    {
      "cell_type": "code",
      "metadata": {
        "id": "2k1lvY5frQsd",
        "colab": {
          "base_uri": "https://localhost:8080/"
        },
        "outputId": "2115e2c2-9982-4fcb-d353-dd4f82e95fb9"
      },
      "source": [
        "confusion_matrix(test_target, y_prediction)"
      ],
      "execution_count": 36,
      "outputs": [
        {
          "output_type": "execute_result",
          "data": {
            "text/plain": [
              "array([[974,   6],\n",
              "       [  2, 890]])"
            ]
          },
          "metadata": {},
          "execution_count": 36
        }
      ]
    },
    {
      "cell_type": "code",
      "metadata": {
        "colab": {
          "base_uri": "https://localhost:8080/",
          "height": 296
        },
        "id": "Th2X6zMVSr3u",
        "outputId": "087d1fe2-99fe-46d4-8c86-ae95aeda6ab3"
      },
      "source": [
        "plot_confusion_matrix(estimator=svm_classifier, X=test_data, y_true=test_target,normalize='all', cmap='Blues')"
      ],
      "execution_count": 37,
      "outputs": [
        {
          "output_type": "execute_result",
          "data": {
            "text/plain": [
              "<sklearn.metrics._plot.confusion_matrix.ConfusionMatrixDisplay at 0x7f9414432950>"
            ]
          },
          "metadata": {},
          "execution_count": 37
        },
        {
          "output_type": "display_data",
          "data": {
            "image/png": "[encoded data removed]",
            "text/plain": [
              "<Figure size 432x288 with 2 Axes>"
            ]
          },
          "metadata": {
            "needs_background": "light"
          }
        }
      ]
    },
    {
      "cell_type": "code",
      "metadata": {
        "colab": {
          "base_uri": "https://localhost:8080/"
        },
        "id": "0ndSsjELMj3l",
        "outputId": "9049bff5-6fff-4ca8-d5a6-98263022d9f6"
      },
      "source": [
        "acc = svm_classifier.score(test_data, test_target) * 100\n",
        "print('Acurácia do Classificador: %.2f%%' % (acc))"
      ],
      "execution_count": 38,
      "outputs": [
        {
          "output_type": "stream",
          "name": "stdout",
          "text": [
            "Acurácia do Classificador: 99.57%\n"
          ]
        }
      ]
    },
    {
      "cell_type": "markdown",
      "metadata": {
        "id": "Qz7BzUbaS4Z7"
      },
      "source": [
        "Com uma acurácia **0,64% superior ao MLP** (modelo proposto), o classificador SVM possui alto poder de predição, com 99,57% contra 98,93% (MLP). Pela matriz de confusão podemos ver que das amostras classificadas erroneamente, o SVM classifica mais amostra de dígito 0 como 5, do que imagens 5 como sendo 0. Esses erros representam apenas 0,0043% de amostras do conjunto de treino. "
      ]
    },
    {
      "cell_type": "markdown",
      "metadata": {
        "id": "9pLTEz1mUsLl"
      },
      "source": [
        "# Considerações Finais"
      ]
    }
  ]
}